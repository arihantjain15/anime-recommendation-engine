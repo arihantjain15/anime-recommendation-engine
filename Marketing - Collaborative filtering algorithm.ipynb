{
 "cells": [
  {
   "cell_type": "code",
   "execution_count": 45,
   "metadata": {},
   "outputs": [],
   "source": [
    "#loading relevant packages\n",
    "import numpy as np\n",
    "import pandas as pd\n",
    "import matplotlib.pyplot as plt\n",
    "%matplotlib inline\n",
    "from sklearn.preprocessing import MultiLabelBinarizer\n",
    "from sklearn.metrics.pairwise import cosine_similarity\n",
    "import re\n",
    "from sklearn.linear_model import LinearRegression"
   ]
  },
  {
   "cell_type": "code",
   "execution_count": 46,
   "metadata": {},
   "outputs": [],
   "source": [
    "#loading the data\n",
    "ratings = pd.read_csv('rating.csv')\n",
    "anime = pd.read_csv('anime.csv')"
   ]
  },
  {
   "cell_type": "code",
   "execution_count": 47,
   "metadata": {},
   "outputs": [
    {
     "name": "stderr",
     "output_type": "stream",
     "text": [
      "C:\\Users\\saura\\Anaconda3\\lib\\site-packages\\ipykernel_launcher.py:2: SettingWithCopyWarning: \n",
      "A value is trying to be set on a copy of a slice from a DataFrame.\n",
      "Try using .loc[row_indexer,col_indexer] = value instead\n",
      "\n",
      "See the caveats in the documentation: http://pandas.pydata.org/pandas-docs/stable/user_guide/indexing.html#returning-a-view-versus-a-copy\n",
      "  \n"
     ]
    }
   ],
   "source": [
    "#for computational efficiency\n",
    "ratings_short = ratings.iloc[:999999,:]\n",
    "\n",
    "#999 denotes an anime watched by the user but not rated\n",
    "ratings_short['rating'] = ratings_short.apply(lambda x: 999 if x['rating'] == -1 else x['rating'], axis=1)"
   ]
  },
  {
   "cell_type": "code",
   "execution_count": 48,
   "metadata": {},
   "outputs": [],
   "source": [
    "ratings_pivot = ratings_short.pivot_table(index = 'user_id', columns = 'anime_id', values = 'rating')"
   ]
  },
  {
   "cell_type": "code",
   "execution_count": 49,
   "metadata": {},
   "outputs": [],
   "source": [
    "#calculating the mean user ratings ignoring the 999 values\n",
    "def avg_rating(x):\n",
    "    y = x[x!=999]\n",
    "    return y.mean()    "
   ]
  },
  {
   "cell_type": "code",
   "execution_count": 50,
   "metadata": {},
   "outputs": [],
   "source": [
    "#series to store the mean rating of each user\n",
    "mean_rating = ratings_pivot.apply(avg_rating,axis=1)"
   ]
  },
  {
   "cell_type": "code",
   "execution_count": 51,
   "metadata": {},
   "outputs": [],
   "source": [
    "#centering the user ratings to 0 by subtracting each rating by the mean user rating\n",
    "ratings_centered = ratings_pivot.sub(mean_rating, axis=0)\n",
    "ratings_centered = ratings_centered.fillna(0)\n",
    "\n",
    "#preparing the dataframe for cosine similarity; '999' would distort similarity values\n",
    "ratings_centered = ratings_centered.replace(999,0)"
   ]
  },
  {
   "cell_type": "code",
   "execution_count": 91,
   "metadata": {},
   "outputs": [],
   "source": [
    "#calculating cosine similarities of each user to all others\n",
    "ratings_cosine = pd.DataFrame(cosine_similarity(ratings_centered), index = ratings_centered.index, columns = ratings_centered.index)"
   ]
  },
  {
   "cell_type": "code",
   "execution_count": 180,
   "metadata": {},
   "outputs": [],
   "source": [
    "#collaborative filtering: recommend movies that were rated highest by similar users\n",
    "def get_recommendations(y):\n",
    "    global anime\n",
    "    #series to store 10 most similar users\n",
    "    sim_users = ratings_cosine.iloc[y].sort_values(ascending=False).head(10)\n",
    "    \n",
    "    #creating dataframe containing movies not yet watched by user \n",
    "    anime_unwatched =  ratings_short[(ratings_short.user_id!=y) & (ratings_short.rating!=999)]\n",
    "    \n",
    "    #filtering dataframe to only include data about 10 most similar users\n",
    "    anime_unwatched = anime_unwatched[anime_unwatched['user_id'].isin(sim_users.index)]\n",
    "    \n",
    "    #including anime that were watched by 3 or more users \n",
    "    anime_by_viewers = anime_unwatched.groupby('anime_id')['user_id'].count()\n",
    "    pop_anime = anime_by_viewers[anime_by_viewers>=3]\n",
    "    anime_unwatched = anime_unwatched[anime_unwatched.anime_id.isin(pop_anime.index)]\n",
    "    \n",
    "    #fetching names of the animes\n",
    "    anime_names = anime_unwatched.merge(anime, left_on = 'anime_id', right_on = 'anime_id')\n",
    "    \n",
    "    #returning animes with highest mean rating given by similar users\n",
    "    return anime_names.groupby(['anime_id','name'])[['rating_x']].mean().sort_values(by = 'rating_x',ascending=False).head(10)"
   ]
  },
  {
   "cell_type": "code",
   "execution_count": 184,
   "metadata": {},
   "outputs": [
    {
     "data": {
      "text/html": [
       "<div>\n",
       "<style scoped>\n",
       "    .dataframe tbody tr th:only-of-type {\n",
       "        vertical-align: middle;\n",
       "    }\n",
       "\n",
       "    .dataframe tbody tr th {\n",
       "        vertical-align: top;\n",
       "    }\n",
       "\n",
       "    .dataframe thead th {\n",
       "        text-align: right;\n",
       "    }\n",
       "</style>\n",
       "<table border=\"1\" class=\"dataframe\">\n",
       "  <thead>\n",
       "    <tr style=\"text-align: right;\">\n",
       "      <th></th>\n",
       "      <th></th>\n",
       "      <th>rating_x</th>\n",
       "    </tr>\n",
       "    <tr>\n",
       "      <th>anime_id</th>\n",
       "      <th>name</th>\n",
       "      <th></th>\n",
       "    </tr>\n",
       "  </thead>\n",
       "  <tbody>\n",
       "    <tr>\n",
       "      <td>13601</td>\n",
       "      <td>Psycho-Pass</td>\n",
       "      <td>10.000000</td>\n",
       "    </tr>\n",
       "    <tr>\n",
       "      <td>2904</td>\n",
       "      <td>Code Geass: Hangyaku no Lelouch R2</td>\n",
       "      <td>9.666667</td>\n",
       "    </tr>\n",
       "    <tr>\n",
       "      <td>5114</td>\n",
       "      <td>Fullmetal Alchemist: Brotherhood</td>\n",
       "      <td>9.666667</td>\n",
       "    </tr>\n",
       "    <tr>\n",
       "      <td>16498</td>\n",
       "      <td>Shingeki no Kyojin</td>\n",
       "      <td>9.666667</td>\n",
       "    </tr>\n",
       "    <tr>\n",
       "      <td>1535</td>\n",
       "      <td>Death Note</td>\n",
       "      <td>9.500000</td>\n",
       "    </tr>\n",
       "    <tr>\n",
       "      <td>11757</td>\n",
       "      <td>Sword Art Online</td>\n",
       "      <td>9.400000</td>\n",
       "    </tr>\n",
       "    <tr>\n",
       "      <td>1575</td>\n",
       "      <td>Code Geass: Hangyaku no Lelouch</td>\n",
       "      <td>9.250000</td>\n",
       "    </tr>\n",
       "    <tr>\n",
       "      <td>6547</td>\n",
       "      <td>Angel Beats!</td>\n",
       "      <td>8.250000</td>\n",
       "    </tr>\n",
       "    <tr>\n",
       "      <td>20</td>\n",
       "      <td>Naruto</td>\n",
       "      <td>8.000000</td>\n",
       "    </tr>\n",
       "    <tr>\n",
       "      <td>6880</td>\n",
       "      <td>Deadman Wonderland</td>\n",
       "      <td>7.800000</td>\n",
       "    </tr>\n",
       "  </tbody>\n",
       "</table>\n",
       "</div>"
      ],
      "text/plain": [
       "                                              rating_x\n",
       "anime_id name                                         \n",
       "13601    Psycho-Pass                         10.000000\n",
       "2904     Code Geass: Hangyaku no Lelouch R2   9.666667\n",
       "5114     Fullmetal Alchemist: Brotherhood     9.666667\n",
       "16498    Shingeki no Kyojin                   9.666667\n",
       "1535     Death Note                           9.500000\n",
       "11757    Sword Art Online                     9.400000\n",
       "1575     Code Geass: Hangyaku no Lelouch      9.250000\n",
       "6547     Angel Beats!                         8.250000\n",
       "20       Naruto                               8.000000\n",
       "6880     Deadman Wonderland                   7.800000"
      ]
     },
     "execution_count": 184,
     "metadata": {},
     "output_type": "execute_result"
    }
   ],
   "source": [
    "get_recommendations(2345)"
   ]
  }
 ],
 "metadata": {
  "kernelspec": {
   "display_name": "Python 3",
   "language": "python",
   "name": "python3"
  },
  "language_info": {
   "codemirror_mode": {
    "name": "ipython",
    "version": 3
   },
   "file_extension": ".py",
   "mimetype": "text/x-python",
   "name": "python",
   "nbconvert_exporter": "python",
   "pygments_lexer": "ipython3",
   "version": "3.7.4"
  }
 },
 "nbformat": 4,
 "nbformat_minor": 2
}
